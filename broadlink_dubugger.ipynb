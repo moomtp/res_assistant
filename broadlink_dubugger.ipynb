{
 "cells": [
  {
   "cell_type": "code",
   "execution_count": 13,
   "metadata": {},
   "outputs": [],
   "source": [
    "remote_code = {\"28\" : b'&\\x00\\x88\\x00\\xd9\\xee\\x112\\x11s\\x111\\x112\\x121\\x112\\x111\\x12r\\x121\\x11s\\x11r\\x121\\x12r\\x11s\\x11r\\x121\\x11s\\x112\\x111\\x112\\x121\\x112\\x11r\\x121\\x121\\x112\\x111\\x121\\x121\\x112\\x112\\x112\\x111\\x112\\x112\\x112\\x111\\x121\\x11s\\x112\\x111\\x121\\x112\\x112\\x111\\x121\\x112\\x112\\x112\\x111\\x112\\x112\\x112\\x111\\x121\\x11s\\x112\\x111\\x12r\\x112\\x112\\x111\\x12r\\x11s\\x10\\xf0\\x12\\x00\\r\\x05'\n",
    "            , \"27\" : b'&\\x00\\x88\\x00\\xd9\\xed\\x121\\x11s\\x111\\x121\\x12r\\x11s\\x11r\\x121\\x121\\x11s\\x11r\\x121\\x12r\\x11s\\x11r\\x121\\x12r\\x112\\x111\\x121\\x12r\\x11s\\x11r\\x121\\x121\\x112\\x111\\x121\\x121\\x112\\x112\\x112\\x111\\x112\\x112\\x112\\x111\\x121\\x11s\\x112\\x111\\x121\\x112\\x112\\x111\\x121\\x112\\x112\\x112\\x111\\x112\\x112\\x112\\x111\\x121\\x11s\\x112\\x111\\x12r\\x112\\x112\\x11r\\x12r\\x11s\\x10\\xf0\\x12\\x00\\r\\x05'\n",
    "            , \"26\" : b'&\\x00\\x88\\x00\\xd9\\xed\\x121\\x11s\\x112\\x112\\x111\\x11s\\x11r\\x121\\x121\\x11s\\x11r\\x122\\x11r\\x11s\\x11r\\x121\\x121\\x11s\\x112\\x111\\x12r\\x11s\\x111\\x122\\x111\\x112\\x112\\x112\\x111\\x121\\x112\\x112\\x111\\x121\\x112\\x112\\x112\\x111\\x11s\\x112\\x112\\x102\\x121\\x112\\x112\\x111\\x121\\x112\\x112\\x111\\x121\\x112\\x103\\x112\\x111\\x11s\\x112\\x112\\x11r\\x121\\x112\\x11s\\x111\\x12r\\x10\\xf1\\x11\\x00\\r\\x05'\n",
    "            , \"25\" : b'&\\x00\\x88\\x00\\xda\\xed\\x130\\x13q\\x120\\x121\\x13q\\x130\\x12q\\x130\\x130\\x13q\\x12q\\x130\\x13q\\x13q\\x12q\\x130\\x130\\x13q\\x120\\x130\\x13q\\x12r\\x120\\x130\\x130\\x130\\x121\\x120\\x130\\x130\\x130\\x121\\x120\\x130\\x130\\x121\\x120\\x130\\x13q\\x130\\x120\\x130\\x130\\x130\\x130\\x120\\x130\\x121\\x130\\x120\\x130\\x130\\x130\\x120\\x130\\x13q\\x130\\x121\\x12q\\x130\\x13q\\x13/\\x130\\x13q\\x12\\xef\\x12\\x00\\r\\x05'\n",
    "            , \"off\" : b'&\\x00\\x88\\x00\\xd9\\xee\\x112\\x11r\\x112\\x112\\x11s\\x11r\\x12r\\x112\\x112\\x11r\\x121\\x112\\x11s\\x11r\\x12r\\x112\\x11s\\x111\\x121\\x112\\x112\\x111\\x121\\x11s\\x112\\x112\\x111\\x112\\x112\\x112\\x111\\x112\\x112\\x112\\x111\\x121\\x121\\x112\\x11r\\x121\\x121\\x112\\x111\\x122\\x111\\x112\\x112\\x112\\x111\\x121\\x112\\x112\\x111\\x121\\x112\\x11s\\x111\\x121\\x11s\\x112\\x11r\\x12r\\x112\\x11s\\x10\\xf0\\x11\\x00\\r\\x05'\n",
    "}"
   ]
  },
  {
   "cell_type": "code",
   "execution_count": 1,
   "metadata": {},
   "outputs": [
    {
     "name": "stdout",
     "output_type": "stream",
     "text": [
      "[broadlink.remote.rm4mini(('192.168.1.115', 80), mac=b'$\\xdf\\xa7O\\x88\\xc7', devtype=25278, timeout=10, name='智能遥控', model='RM4C mini', manufacturer='Broadlink', is_locked=False)]\n",
      "智能遥控 (Broadlink RM4C mini 0x62be / 192.168.1.115:80 / 24:DF:A7:4F:88:C7)\n"
     ]
    },
    {
     "data": {
      "text/plain": [
       "True"
      ]
     },
     "execution_count": 1,
     "metadata": {},
     "output_type": "execute_result"
    }
   ],
   "source": [
    "import broadlink\n",
    "broadlink.setup(\"GIJOE\", '0920723736', 3)\n",
    "\n",
    "devices = broadlink.discover()\n",
    "\n",
    "print(devices)\n",
    "\n",
    "try :\n",
    "    print(devices[0])\n",
    "except:\n",
    "    Exception()\n",
    "device = devices[0]\n",
    "\n",
    "device.auth()\n",
    "\n"
   ]
  },
  {
   "cell_type": "code",
   "execution_count": 20,
   "metadata": {},
   "outputs": [],
   "source": [
    "device.enter_learning()\n",
    "\n"
   ]
  },
  {
   "cell_type": "code",
   "execution_count": 21,
   "metadata": {},
   "outputs": [
    {
     "name": "stdout",
     "output_type": "stream",
     "text": [
      "b'&\\x00\\x88\\x00\\xda\\xed\\x130\\x13q\\x120\\x121\\x13q\\x130\\x12q\\x130\\x130\\x13q\\x12q\\x130\\x13q\\x13q\\x12q\\x130\\x130\\x13q\\x120\\x130\\x13q\\x12r\\x120\\x130\\x130\\x130\\x121\\x120\\x130\\x130\\x130\\x121\\x120\\x130\\x130\\x121\\x120\\x130\\x13q\\x130\\x120\\x130\\x130\\x130\\x130\\x120\\x130\\x121\\x130\\x120\\x130\\x130\\x130\\x120\\x130\\x13q\\x130\\x121\\x12q\\x130\\x13q\\x13/\\x130\\x13q\\x12\\xef\\x12\\x00\\r\\x05'\n"
     ]
    }
   ],
   "source": [
    "packet = device.check_data()\n",
    "\n",
    "print(packet)"
   ]
  },
  {
   "cell_type": "code",
   "execution_count": 4,
   "metadata": {},
   "outputs": [
    {
     "ename": "AttributeError",
     "evalue": "'rm4mini' object has no attribute 'cancel_sweep_frequency'",
     "output_type": "error",
     "traceback": [
      "\u001b[0;31m---------------------------------------------------------------------------\u001b[0m",
      "\u001b[0;31mAttributeError\u001b[0m                            Traceback (most recent call last)",
      "Cell \u001b[0;32mIn[4], line 1\u001b[0m\n\u001b[0;32m----> 1\u001b[0m \u001b[43mdevice\u001b[49m\u001b[38;5;241;43m.\u001b[39;49m\u001b[43mcancel_sweep_frequency\u001b[49m()\n",
      "\u001b[0;31mAttributeError\u001b[0m: 'rm4mini' object has no attribute 'cancel_sweep_frequency'"
     ]
    }
   ],
   "source": [
    "device.cancel_sweep_frequency()"
   ]
  },
  {
   "cell_type": "code",
   "execution_count": 15,
   "metadata": {},
   "outputs": [],
   "source": [
    "device.send_data(remote_code[\"28\"])"
   ]
  }
 ],
 "metadata": {
  "kernelspec": {
   "display_name": "Python 3",
   "language": "python",
   "name": "python3"
  },
  "language_info": {
   "codemirror_mode": {
    "name": "ipython",
    "version": 3
   },
   "file_extension": ".py",
   "mimetype": "text/x-python",
   "name": "python",
   "nbconvert_exporter": "python",
   "pygments_lexer": "ipython3",
   "version": "3.10.12"
  }
 },
 "nbformat": 4,
 "nbformat_minor": 2
}
