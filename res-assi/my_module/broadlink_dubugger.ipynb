{
 "cells": [
  {
   "cell_type": "code",
   "execution_count": 1,
   "metadata": {},
   "outputs": [],
   "source": [
    "remote_code = {\"28\" : b'&\\x00\\x88\\x00\\xd9\\xee\\x112\\x11s\\x111\\x112\\x121\\x112\\x111\\x12r\\x121\\x11s\\x11r\\x121\\x12r\\x11s\\x11r\\x121\\x11s\\x112\\x111\\x112\\x121\\x112\\x11r\\x121\\x121\\x112\\x111\\x121\\x121\\x112\\x112\\x112\\x111\\x112\\x112\\x112\\x111\\x121\\x11s\\x112\\x111\\x121\\x112\\x112\\x111\\x121\\x112\\x112\\x112\\x111\\x112\\x112\\x112\\x111\\x121\\x11s\\x112\\x111\\x12r\\x112\\x112\\x111\\x12r\\x11s\\x10\\xf0\\x12\\x00\\r\\x05'\n",
    "            , \"27\" : b'&\\x00\\x88\\x00\\xd9\\xed\\x121\\x11s\\x111\\x121\\x12r\\x11s\\x11r\\x121\\x121\\x11s\\x11r\\x121\\x12r\\x11s\\x11r\\x121\\x12r\\x112\\x111\\x121\\x12r\\x11s\\x11r\\x121\\x121\\x112\\x111\\x121\\x121\\x112\\x112\\x112\\x111\\x112\\x112\\x112\\x111\\x121\\x11s\\x112\\x111\\x121\\x112\\x112\\x111\\x121\\x112\\x112\\x112\\x111\\x112\\x112\\x112\\x111\\x121\\x11s\\x112\\x111\\x12r\\x112\\x112\\x11r\\x12r\\x11s\\x10\\xf0\\x12\\x00\\r\\x05'\n",
    "            , \"26\" : b'&\\x00\\x88\\x00\\xd9\\xed\\x121\\x11s\\x112\\x112\\x111\\x11s\\x11r\\x121\\x121\\x11s\\x11r\\x122\\x11r\\x11s\\x11r\\x121\\x121\\x11s\\x112\\x111\\x12r\\x11s\\x111\\x122\\x111\\x112\\x112\\x112\\x111\\x121\\x112\\x112\\x111\\x121\\x112\\x112\\x112\\x111\\x11s\\x112\\x112\\x102\\x121\\x112\\x112\\x111\\x121\\x112\\x112\\x111\\x121\\x112\\x103\\x112\\x111\\x11s\\x112\\x112\\x11r\\x121\\x112\\x11s\\x111\\x12r\\x10\\xf1\\x11\\x00\\r\\x05'\n",
    "            , \"25\" : b'&\\x00\\x88\\x00\\xda\\xed\\x130\\x13q\\x120\\x121\\x13q\\x130\\x12q\\x130\\x130\\x13q\\x12q\\x130\\x13q\\x13q\\x12q\\x130\\x130\\x13q\\x120\\x130\\x13q\\x12r\\x120\\x130\\x130\\x130\\x121\\x120\\x130\\x130\\x130\\x121\\x120\\x130\\x130\\x121\\x120\\x130\\x13q\\x130\\x120\\x130\\x130\\x130\\x130\\x120\\x130\\x121\\x130\\x120\\x130\\x130\\x130\\x120\\x130\\x13q\\x130\\x121\\x12q\\x130\\x13q\\x13/\\x130\\x13q\\x12\\xef\\x12\\x00\\r\\x05'\n",
    "            , \"off\" : b'&\\x00\\x88\\x00\\xd9\\xee\\x112\\x11r\\x112\\x112\\x11s\\x11r\\x12r\\x112\\x112\\x11r\\x121\\x112\\x11s\\x11r\\x12r\\x112\\x11s\\x111\\x121\\x112\\x112\\x111\\x121\\x11s\\x112\\x112\\x111\\x112\\x112\\x112\\x111\\x112\\x112\\x112\\x111\\x121\\x121\\x112\\x11r\\x121\\x121\\x112\\x111\\x122\\x111\\x112\\x112\\x112\\x111\\x121\\x112\\x112\\x111\\x121\\x112\\x11s\\x111\\x121\\x11s\\x112\\x11r\\x12r\\x112\\x11s\\x10\\xf0\\x11\\x00\\r\\x05'\n",
    "}"
   ]
  },
  {
   "cell_type": "code",
   "execution_count": 19,
   "metadata": {},
   "outputs": [
    {
     "data": {
      "text/plain": [
       "[]"
      ]
     },
     "execution_count": 19,
     "metadata": {},
     "output_type": "execute_result"
    }
   ],
   "source": [
    "import broadlink\n",
    "\n",
    "devices = broadlink.discover(timeout=5)\n",
    "broadlink.setup(\"GIJOE\", '0920723736', 3)\n",
    "\n",
    "device = broadlink.hello(\"192.168.1.115\")\n",
    "device.auth()\n",
    "\n",
    "device.get_type()\n",
    "# print(devices)\n",
    "\n",
    "# try :\n",
    "#     print(devices[0])\n",
    "# except:\n",
    "#     Exception()\n",
    "# device = devices[0]\n",
    "\n",
    "# device.auth()\n",
    "\n",
    "devices\n"
   ]
  },
  {
   "cell_type": "code",
   "execution_count": 20,
   "metadata": {},
   "outputs": [],
   "source": [
    "device.enter_learning()\n",
    "\n"
   ]
  },
  {
   "cell_type": "code",
   "execution_count": 17,
   "metadata": {},
   "outputs": [
    {
     "ename": "StorageError",
     "evalue": "[Errno -5] The device storage is full",
     "output_type": "error",
     "traceback": [
      "\u001b[0;31m---------------------------------------------------------------------------\u001b[0m",
      "\u001b[0;31mStorageError\u001b[0m                              Traceback (most recent call last)",
      "Cell \u001b[0;32mIn[17], line 1\u001b[0m\n\u001b[0;32m----> 1\u001b[0m packet \u001b[38;5;241m=\u001b[39m \u001b[43mdevice\u001b[49m\u001b[38;5;241;43m.\u001b[39;49m\u001b[43mcheck_data\u001b[49m\u001b[43m(\u001b[49m\u001b[43m)\u001b[49m\n\u001b[1;32m      3\u001b[0m \u001b[38;5;28mprint\u001b[39m(packet)\n",
      "File \u001b[0;32m~/.local/lib/python3.10/site-packages/broadlink/remote.py:79\u001b[0m, in \u001b[0;36mrmmini.check_data\u001b[0;34m(self)\u001b[0m\n\u001b[1;32m     77\u001b[0m \u001b[38;5;28;01mdef\u001b[39;00m \u001b[38;5;21mcheck_data\u001b[39m(\u001b[38;5;28mself\u001b[39m) \u001b[38;5;241m-\u001b[39m\u001b[38;5;241m>\u001b[39m \u001b[38;5;28mbytes\u001b[39m:\n\u001b[1;32m     78\u001b[0m \u001b[38;5;250m    \u001b[39m\u001b[38;5;124;03m\"\"\"Return the last captured code.\"\"\"\u001b[39;00m\n\u001b[0;32m---> 79\u001b[0m     \u001b[38;5;28;01mreturn\u001b[39;00m \u001b[38;5;28;43mself\u001b[39;49m\u001b[38;5;241;43m.\u001b[39;49m\u001b[43m_send\u001b[49m\u001b[43m(\u001b[49m\u001b[38;5;241;43m0x4\u001b[39;49m\u001b[43m)\u001b[49m\n",
      "File \u001b[0;32m~/.local/lib/python3.10/site-packages/broadlink/remote.py:129\u001b[0m, in \u001b[0;36mrmminib._send\u001b[0;34m(self, command, data)\u001b[0m\n\u001b[1;32m    127\u001b[0m packet \u001b[38;5;241m=\u001b[39m struct\u001b[38;5;241m.\u001b[39mpack(\u001b[38;5;124m\"\u001b[39m\u001b[38;5;124m<HI\u001b[39m\u001b[38;5;124m\"\u001b[39m, \u001b[38;5;28mlen\u001b[39m(data) \u001b[38;5;241m+\u001b[39m \u001b[38;5;241m4\u001b[39m, command) \u001b[38;5;241m+\u001b[39m data\n\u001b[1;32m    128\u001b[0m resp \u001b[38;5;241m=\u001b[39m \u001b[38;5;28mself\u001b[39m\u001b[38;5;241m.\u001b[39msend_packet(\u001b[38;5;241m0x6A\u001b[39m, packet)\n\u001b[0;32m--> 129\u001b[0m \u001b[43me\u001b[49m\u001b[38;5;241;43m.\u001b[39;49m\u001b[43mcheck_error\u001b[49m\u001b[43m(\u001b[49m\u001b[43mresp\u001b[49m\u001b[43m[\u001b[49m\u001b[38;5;241;43m0x22\u001b[39;49m\u001b[43m:\u001b[49m\u001b[38;5;241;43m0x24\u001b[39;49m\u001b[43m]\u001b[49m\u001b[43m)\u001b[49m\n\u001b[1;32m    130\u001b[0m payload \u001b[38;5;241m=\u001b[39m \u001b[38;5;28mself\u001b[39m\u001b[38;5;241m.\u001b[39mdecrypt(resp[\u001b[38;5;241m0x38\u001b[39m:])\n\u001b[1;32m    131\u001b[0m p_len \u001b[38;5;241m=\u001b[39m struct\u001b[38;5;241m.\u001b[39munpack(\u001b[38;5;124m\"\u001b[39m\u001b[38;5;124m<H\u001b[39m\u001b[38;5;124m\"\u001b[39m, payload[:\u001b[38;5;241m0x2\u001b[39m])[\u001b[38;5;241m0\u001b[39m]\n",
      "File \u001b[0;32m~/.local/lib/python3.10/site-packages/broadlink/exceptions.py:152\u001b[0m, in \u001b[0;36mcheck_error\u001b[0;34m(error)\u001b[0m\n\u001b[1;32m    150\u001b[0m error_code \u001b[38;5;241m=\u001b[39m struct\u001b[38;5;241m.\u001b[39munpack(\u001b[38;5;124m\"\u001b[39m\u001b[38;5;124mh\u001b[39m\u001b[38;5;124m\"\u001b[39m, error)[\u001b[38;5;241m0\u001b[39m]\n\u001b[1;32m    151\u001b[0m \u001b[38;5;28;01mif\u001b[39;00m error_code:\n\u001b[0;32m--> 152\u001b[0m     \u001b[38;5;28;01mraise\u001b[39;00m exception(error_code)\n",
      "\u001b[0;31mStorageError\u001b[0m: [Errno -5] The device storage is full"
     ]
    }
   ],
   "source": [
    "packet = device.check_data()\n",
    "\n",
    "print(packet)"
   ]
  },
  {
   "cell_type": "code",
   "execution_count": 4,
   "metadata": {},
   "outputs": [
    {
     "ename": "AttributeError",
     "evalue": "'rm4mini' object has no attribute 'cancel_sweep_frequency'",
     "output_type": "error",
     "traceback": [
      "\u001b[0;31m---------------------------------------------------------------------------\u001b[0m",
      "\u001b[0;31mAttributeError\u001b[0m                            Traceback (most recent call last)",
      "Cell \u001b[0;32mIn[4], line 1\u001b[0m\n\u001b[0;32m----> 1\u001b[0m \u001b[43mdevice\u001b[49m\u001b[38;5;241;43m.\u001b[39;49m\u001b[43mcancel_sweep_frequency\u001b[49m()\n",
      "\u001b[0;31mAttributeError\u001b[0m: 'rm4mini' object has no attribute 'cancel_sweep_frequency'"
     ]
    }
   ],
   "source": [
    "device.cancel_sweep_frequency()"
   ]
  },
  {
   "cell_type": "code",
   "execution_count": 18,
   "metadata": {},
   "outputs": [],
   "source": [
    "device.send_data(remote_code[\"28\"])"
   ]
  }
 ],
 "metadata": {
  "kernelspec": {
   "display_name": "Python 3",
   "language": "python",
   "name": "python3"
  },
  "language_info": {
   "codemirror_mode": {
    "name": "ipython",
    "version": 3
   },
   "file_extension": ".py",
   "mimetype": "text/x-python",
   "name": "python",
   "nbconvert_exporter": "python",
   "pygments_lexer": "ipython3",
   "version": "3.10.12"
  }
 },
 "nbformat": 4,
 "nbformat_minor": 2
}
